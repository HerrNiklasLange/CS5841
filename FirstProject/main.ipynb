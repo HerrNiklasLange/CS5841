{
 "cells": [
  {
   "cell_type": "markdown",
   "id": "1f03c3c7",
   "metadata": {},
   "source": [
    "# Spam Email Detection using Naïve Bayes and Gaussian Naïve Bayes"
   ]
  },
  {
   "cell_type": "code",
   "execution_count": 21,
   "id": "0ca9f1b0-5479-468a-88d0-0b50b4680e25",
   "metadata": {},
   "outputs": [],
   "source": [
    "#Libraries:\n",
    "import pandas as pd\n",
    "from sklearn.model_selection import train_test_split\n",
    "import nltk\n",
    "from nltk.tokenize import word_tokenize\n",
    "from nltk.corpus import stopwords\n",
    "from sklearn.feature_extraction.text import TfidfVectorizer\n",
    "from sklearn.naive_bayes import MultinomialNB\n",
    "from sklearn.naive_bayes import GaussianNB\n",
    "from sklearn.metrics import accuracy_score, classification_report, confusion_matrix, roc_curve, auc\n",
    "import matplotlib.pyplot as plt\n"
   ]
  },
  {
   "cell_type": "code",
   "execution_count": null,
   "id": "0987e9d3-b1f6-4555-8a58-8ee64fce68bc",
   "metadata": {},
   "outputs": [
    {
     "name": "stderr",
     "output_type": "stream",
     "text": [
      "C:\\Users\\Eric\\AppData\\Local\\Temp\\ipykernel_15164\\3901763975.py:18: FutureWarning: Series.__getitem__ treating keys as positions is deprecated. In a future version, integer keys will always be treated as labels (consistent with DataFrame behavior). To access a value by position, use `ser.iloc[pos]`\n",
      "  if missing_values.iloc[row][column] == True:\n",
      "[nltk_data] Downloading package stopwords to\n",
      "[nltk_data]     C:\\Users\\Eric\\AppData\\Roaming\\nltk_data...\n",
      "[nltk_data]   Package stopwords is already up-to-date!\n",
      "[nltk_data] Downloading package punkt_tab to\n",
      "[nltk_data]     C:\\Users\\Eric\\AppData\\Roaming\\nltk_data...\n",
      "[nltk_data]   Package punkt_tab is already up-to-date!\n",
      "[nltk_data] Downloading package stopwords to\n",
      "[nltk_data]     C:\\Users\\Eric\\AppData\\Roaming\\nltk_data...\n",
      "[nltk_data]   Package stopwords is already up-to-date!\n",
      "[nltk_data] Downloading package punkt_tab to\n",
      "[nltk_data]     C:\\Users\\Eric\\AppData\\Roaming\\nltk_data...\n",
      "[nltk_data]   Package punkt_tab is already up-to-date!\n"
     ]
    },
    {
     "name": "stdout",
     "output_type": "stream",
     "text": [
      "Token:    [['april', 'activity', 'surveys', 'starting', 'collect', 'data', 'april', 'attached', 'survey', 'drives', 'costs', 'activities', 'commercial', 'teams', 'please', 'select', 'rcs', 'fill', 'driver', 'quantity', 'requested', 'driver', 'month', 'february', 'please', 'fill', 'attached', 'activity', 'driver', 'survey', 'april', 'numbers', 'rc', 'end', 'day', 'thursday', 'may', '4', 'th', 'group', 'currently', 'generates', 'standard', 'report', 'captures', 'surveyed', 'data', 'please', 'send', 'report', 'put', 'recipient', 'list', 'beginning', 'next', 'month', 'eliminate', 'need', 'fill', 'survey', 'every', 'month', 'would', 'like', 'us', 'collect', 'information', 'someone', 'within', 'team', 'beginning', 'next', 'month', 'let', 'know', 'please', 'contact', 'lisa', 'cousino', 'x', '3', '6343', 'unable', 'complete', 'survey', 'within', 'allotted', 'time', 'thanks', 'shari', '3', '3859'], ['message', 'hey', 'julie', '^', '^', 'turned', '18', 'high', 'school', 'senior', 'houston', 'tx', 'waiting', 'long', 'time', 'day', 'finally', 'got', 'wish', 'simply', 'trying', 'show', 'meet', 'new', 'cyber', 'friends', 'knows', 'lead', 'worry', 'usually', 'online', 'free', 'go', 'thru', 'age', 'verification', 'youngers', 'snooping', 'around', 'hehe', 'http', 'oioaz', 'stuntscholar', 'com', 'ju', '2']]\n",
      "Training data X(What we are using to predcit):     5132    Subject: april activity surveys\\r\\nwe are star...\n",
      "2067    Subject: message subject\\r\\nhey i ' am julie ^...\n",
      "Name: text, dtype: object\n",
      "training data y(what we try to predict) 5132    0\n",
      "2067    1\n",
      "Name: label_num, dtype: int64\n"
     ]
    }
   ],
   "source": [
    "#-------------------------------------------SETTING UP AND CLEANING THE DATA------------------------------------\n",
    "\n",
    "\n",
    "csvFile = pd.read_csv('spam_ham_dataset.csv')\n",
    "\n",
    "\n",
    "#print(csvFile.shape)\n",
    "# Checking for missing values using isnull()\n",
    "\n",
    "\n",
    "df = csvFile.dropna(axis=0, how='any')\n",
    "#print(df.shape) #dropping no values no issues \n",
    "\n",
    "missing_values = df.isnull()\n",
    "\n",
    "for column in range(3):\n",
    "    for row in range(5170):\n",
    "        if missing_values.iloc[row][column] == True:\n",
    "            print(df.iloc[column])\n",
    "\n",
    "\n",
    "X = df['text']\n",
    "y = df['label_num']\n",
    "\n",
    "#print(X, y)\n",
    "\n",
    "\n",
    "X_train, X_test, y_train, y_test = train_test_split(X, y, test_size=0.2, random_state=42)\n",
    "\n",
    "#print(X_train.shape, X_test.shape)\n",
    "\n",
    "import spacy\n",
    "\n",
    "def TextPreprocessing(df, n):\n",
    "    filtered_sentence = []\n",
    "    nltk.download('stopwords')\n",
    "    nltk.download('punkt_tab')\n",
    "\n",
    "\n",
    "    # Add your own stop words here.\n",
    "    manual_stop_words = {'subject', ':','','.', ',','/',';','\"','-',\"'\", '(',')','_'}\n",
    "    #should the following be added: '^', ...\n",
    "\n",
    "\n",
    "    \n",
    "    stop_words = set(stopwords.words('english'))\n",
    "    for i in range(n):\n",
    "        temp = [] \n",
    "        for w in word_tokenize(df.iloc[i].lower()):\n",
    "            \n",
    "            if w not in stop_words and w not in manual_stop_words:\n",
    "                temp.append(w)\n",
    "        #print(temp)\n",
    "        filtered_sentence.append(temp)\n",
    "    #print(filtered_sentence[1:3])\n",
    "    return filtered_sentence\n",
    "\n",
    "\n",
    "X_train_token = TextPreprocessing(X_train, X_train.size)\n",
    "X_test_token = TextPreprocessing(X_test, X_test.size)\n",
    "\n",
    "\n",
    "#print example if needed to understand the data\n",
    "print('Token:   ', X_train_token[:2])\n",
    "print('Training data X(What we are using to predcit):    ', X_train[:2])\n",
    "print('training data y(what we try to predict)', y_train[:2])"
   ]
  },
  {
   "cell_type": "markdown",
   "id": "278eeb89",
   "metadata": {},
   "source": [
    "### Multinomial Naive Bayes"
   ]
  },
  {
   "cell_type": "code",
   "execution_count": 19,
   "id": "e3109f8f-7bbe-4709-8ba2-ff8a610063fb",
   "metadata": {},
   "outputs": [
    {
     "name": "stderr",
     "output_type": "stream",
     "text": [
      "c:\\Users\\Eric\\AppData\\Local\\Programs\\Python\\Python312\\Lib\\site-packages\\sklearn\\feature_extraction\\text.py:521: UserWarning: The parameter 'token_pattern' will not be used since 'tokenizer' is not None'\n",
      "  warnings.warn(\n"
     ]
    },
    {
     "name": "stdout",
     "output_type": "stream",
     "text": [
      "Accuracy: 0.92\n",
      "\n",
      "Classification Report:\n",
      "              precision    recall  f1-score   support\n",
      "\n",
      "           0       0.90      1.00      0.95       742\n",
      "           1       1.00      0.72      0.84       293\n",
      "\n",
      "    accuracy                           0.92      1035\n",
      "   macro avg       0.95      0.86      0.89      1035\n",
      "weighted avg       0.93      0.92      0.92      1035\n",
      "\n",
      "\n",
      "Confusion Matrix:\n",
      "[[742   0]\n",
      " [ 82 211]]\n"
     ]
    },
    {
     "data": {
      "image/png": "[encoded data removed]",
      "text/plain": [
       "<Figure size 800x600 with 1 Axes>"
      ]
     },
     "metadata": {},
     "output_type": "display_data"
    }
   ],
   "source": [
    "# Convert tokenized text data into numerical features using TfidfVectorizer\n",
    "vectorizer = TfidfVectorizer(tokenizer=lambda x: x, preprocessor=lambda x: x, lowercase=False)\n",
    "X_train_vectorized = vectorizer.fit_transform(X_train_token)\n",
    "X_test_vectorized = vectorizer.transform(X_test_token)\n",
    "\n",
    "# Initialize Multinomial Naive Bayes model\n",
    "nb_classifier = MultinomialNB()\n",
    "\n",
    "# Train the model\n",
    "nb_classifier.fit(X_train_vectorized, y_train)\n",
    "\n",
    "# Make predictions on test data\n",
    "y_pred = nb_classifier.predict(X_test_vectorized)\n",
    "\n",
    "# Evaluate the model\n",
    "accuracy = accuracy_score(y_test, y_pred)\n",
    "print(f\"Accuracy: {accuracy:.2f}\")\n",
    "\n",
    "print(\"\\nClassification Report:\")\n",
    "print(classification_report(y_test, y_pred))\n",
    "\n",
    "print(\"\\nConfusion Matrix:\")\n",
    "print(confusion_matrix(y_test, y_pred))\n",
    "\n",
    "# Plot ROC Curve\n",
    "y_prob = nb_classifier.predict_proba(X_test_vectorized)[:, 1]\n",
    "fpr, tpr, _ = roc_curve(y_test, y_prob)\n",
    "roc_auc = auc(fpr, tpr)\n",
    "\n",
    "plt.figure(figsize=(8, 6))\n",
    "plt.plot(fpr, tpr, color='blue', lw=2, label=f'ROC curve (area = {roc_auc:.2f})')\n",
    "plt.plot([0, 1], [0, 1], color='gray', linestyle='--')  # Random classifier line\n",
    "plt.xlim([0.0, 1.0])\n",
    "plt.ylim([0.0, 1.05])\n",
    "plt.xlabel('False Positive Rate')\n",
    "plt.ylabel('True Positive Rate')\n",
    "plt.title('ROC Curve for Multinomial Naive Bayes')\n",
    "plt.legend(loc='lower right')\n",
    "plt.show()\n",
    "\n"
   ]
  },
  {
   "cell_type": "markdown",
   "id": "4ce55c2d",
   "metadata": {},
   "source": [
    "### Gaussian Naive Bayes "
   ]
  },
  {
   "cell_type": "code",
   "execution_count": 22,
   "id": "080cdf1f",
   "metadata": {},
   "outputs": [
    {
     "name": "stdout",
     "output_type": "stream",
     "text": [
      "\n",
      "Accuracy of GNB = 0.95\n",
      "\n",
      "confusion matrix - \n",
      "[[725  17]\n",
      " [ 35 258]]\n",
      "\n",
      "              precision    recall  f1-score   support\n",
      "\n",
      "           0       0.95      0.98      0.97       742\n",
      "           1       0.94      0.88      0.91       293\n",
      "\n",
      "    accuracy                           0.95      1035\n",
      "   macro avg       0.95      0.93      0.94      1035\n",
      "weighted avg       0.95      0.95      0.95      1035\n",
      "\n"
     ]
    }
   ],
   "source": [
    "#converting to array for GNB use\n",
    "X_train_vectorizedArray = X_train_vectorized.toarray()\n",
    "X_test_vectorizedArray = X_test_vectorized.toarray()\n",
    "\n",
    "GNB = GaussianNB()\n",
    "GNB.fit(X_train_vectorizedArray, y_train)\n",
    "test = GNB.predict(X_test_vectorizedArray)\n",
    "\n",
    "#accuracy\n",
    "accs = accuracy_score(y_test, test)\n",
    "print()\n",
    "print(f\"Accuracy of GNB = {accs:.2f}\")\n",
    "print()\n",
    "\n",
    "#confusion matrix\n",
    "print(\"confusion matrix - \")\n",
    "print(confusion_matrix(y_test, test))\n",
    "print()\n",
    "\n",
    "#precision, recall, f1=score\n",
    "print(classification_report(y_test, test))\n",
    "\n",
    "#setup for roc\n",
    "import matplotlib.pyplot as plt\n",
    "from sklearn.metrics import roc_curve, auc\n",
    "\n",
    "testProbability = GNB.predict_proba(xTestArray)[:, 1]\n",
    "\n",
    "#creating roc\n",
    "fPos, tPos, t = roc_curve(y_test, testProbability)\n",
    "rocAUC = auc(fPos, tPos)\n",
    "\n",
    "#making/showing graph\n",
    "plt.figure(figsize=(6, 6))\n",
    "plt.plot(fPos, tPos, color='red', label=f'ROC graph AUC = {rocAUC:.2f}')\n",
    "plt.xlabel('False Positive Rate')\n",
    "plt.ylabel('True Positive Rate')\n",
    "plt.title('ROC for Gaussian Naive Bayse')\n",
    "plt.grid(True)\n",
    "plt.show()"
   ]
  },
  {
   "cell_type": "code",
   "execution_count": null,
   "id": "9f4b6ad1",
   "metadata": {},
   "outputs": [],
   "source": []
  },
  {
   "cell_type": "code",
   "execution_count": null,
   "id": "93067dba",
   "metadata": {},
   "outputs": [],
   "source": []
  }
 ],
 "metadata": {
  "kernelspec": {
   "display_name": "Python 3",
   "language": "python",
   "name": "python3"
  },
  "language_info": {
   "codemirror_mode": {
    "name": "ipython",
    "version": 3
   },
   "file_extension": ".py",
   "mimetype": "text/x-python",
   "name": "python",
   "nbconvert_exporter": "python",
   "pygments_lexer": "ipython3",
   "version": "3.12.4"
  }
 },
 "nbformat": 4,
 "nbformat_minor": 5
}
