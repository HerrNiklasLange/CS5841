{
 "cells": [
  {
   "cell_type": "code",
   "execution_count": 7,
   "id": "0ca9f1b0-5479-468a-88d0-0b50b4680e25",
   "metadata": {},
   "outputs": [],
   "source": [
    "#Libraries:\n",
    "import pandas as pd\n",
    "from sklearn.model_selection import train_test_split\n",
    "import nltk\n",
    "from nltk.tokenize import word_tokenize\n",
    "from nltk.corpus import stopwords\n",
    "from sklearn.feature_extraction.text import TfidfVectorizer\n",
    "from sklearn.naive_bayes import MultinomialNB\n",
    "from sklearn.metrics import accuracy_score, classification_report, confusion_matrix\n"
   ]
  },
  {
   "cell_type": "code",
   "execution_count": 6,
   "id": "0987e9d3-b1f6-4555-8a58-8ee64fce68bc",
   "metadata": {},
   "outputs": [
    {
     "name": "stderr",
     "output_type": "stream",
     "text": [
      "C:\\Users\\Eric\\AppData\\Local\\Temp\\ipykernel_15164\\3901763975.py:18: FutureWarning: Series.__getitem__ treating keys as positions is deprecated. In a future version, integer keys will always be treated as labels (consistent with DataFrame behavior). To access a value by position, use `ser.iloc[pos]`\n",
      "  if missing_values.iloc[row][column] == True:\n",
      "[nltk_data] Downloading package stopwords to\n",
      "[nltk_data]     C:\\Users\\Eric\\AppData\\Roaming\\nltk_data...\n",
      "[nltk_data]   Unzipping corpora\\stopwords.zip.\n",
      "[nltk_data] Downloading package punkt_tab to\n",
      "[nltk_data]     C:\\Users\\Eric\\AppData\\Roaming\\nltk_data...\n",
      "[nltk_data]   Unzipping tokenizers\\punkt_tab.zip.\n",
      "[nltk_data] Downloading package stopwords to\n",
      "[nltk_data]     C:\\Users\\Eric\\AppData\\Roaming\\nltk_data...\n",
      "[nltk_data]   Package stopwords is already up-to-date!\n",
      "[nltk_data] Downloading package punkt_tab to\n",
      "[nltk_data]     C:\\Users\\Eric\\AppData\\Roaming\\nltk_data...\n",
      "[nltk_data]   Package punkt_tab is already up-to-date!\n"
     ]
    },
    {
     "name": "stdout",
     "output_type": "stream",
     "text": [
      "Token:    [['april', 'activity', 'surveys', 'starting', 'collect', 'data', 'april', 'attached', 'survey', 'drives', 'costs', 'activities', 'commercial', 'teams', 'please', 'select', 'rcs', 'fill', 'driver', 'quantity', 'requested', 'driver', 'month', 'february', 'please', 'fill', 'attached', 'activity', 'driver', 'survey', 'april', 'numbers', 'rc', 'end', 'day', 'thursday', 'may', '4', 'th', 'group', 'currently', 'generates', 'standard', 'report', 'captures', 'surveyed', 'data', 'please', 'send', 'report', 'put', 'recipient', 'list', 'beginning', 'next', 'month', 'eliminate', 'need', 'fill', 'survey', 'every', 'month', 'would', 'like', 'us', 'collect', 'information', 'someone', 'within', 'team', 'beginning', 'next', 'month', 'let', 'know', 'please', 'contact', 'lisa', 'cousino', 'x', '3', '6343', 'unable', 'complete', 'survey', 'within', 'allotted', 'time', 'thanks', 'shari', '3', '3859'], ['message', 'hey', 'julie', '^', '^', 'turned', '18', 'high', 'school', 'senior', 'houston', 'tx', 'waiting', 'long', 'time', 'day', 'finally', 'got', 'wish', 'simply', 'trying', 'show', 'meet', 'new', 'cyber', 'friends', 'knows', 'lead', 'worry', 'usually', 'online', 'free', 'go', 'thru', 'age', 'verification', 'youngers', 'snooping', 'around', 'hehe', 'http', 'oioaz', 'stuntscholar', 'com', 'ju', '2']]\n",
      "Training data X(What we are using to predcit):     5132    Subject: april activity surveys\\r\\nwe are star...\n",
      "2067    Subject: message subject\\r\\nhey i ' am julie ^...\n",
      "Name: text, dtype: object\n",
      "training data y(what we try to predict) 5132    0\n",
      "2067    1\n",
      "Name: label_num, dtype: int64\n"
     ]
    }
   ],
   "source": [
    "#-------------------------------------------SETTING UP AND CLEANING THE DATA------------------------------------\n",
    "\n",
    "\n",
    "csvFile = pd.read_csv('spam_ham_dataset.csv')\n",
    "\n",
    "\n",
    "#print(csvFile.shape)\n",
    "# Checking for missing values using isnull()\n",
    "\n",
    "\n",
    "df = csvFile.dropna(axis=0, how='any')\n",
    "#print(df.shape) #dropping no values no issues \n",
    "\n",
    "missing_values = df.isnull()\n",
    "\n",
    "for column in range(3):\n",
    "    for row in range(5170):\n",
    "        if missing_values.iloc[row][column] == True:\n",
    "            print(df.iloc[column])\n",
    "#No missing values double checked it\n",
    "#print(df.head)\n",
    "\n",
    "X = df['text']\n",
    "y = df['label_num']\n",
    "\n",
    "#print(X, y)\n",
    "\n",
    "\n",
    "X_train, X_test, y_train, y_test = train_test_split(X, y, test_size=0.2, random_state=42)\n",
    "\n",
    "#print(X_train.shape, X_test.shape)\n",
    "\n",
    "import spacy\n",
    "\n",
    "def TextPreprocessing(df, n):\n",
    "    filtered_sentence = []\n",
    "    nltk.download('stopwords')\n",
    "    nltk.download('punkt_tab')\n",
    "\n",
    "\n",
    "    #If you have issues with some useless work change this\n",
    "    #Anyone should feel free to add more\n",
    "    manual_stop_words = {'subject', ':','','.', ',','/',';','\"','-',\"'\", '(',')','_'}\n",
    "    #should the following be added: '^', ...\n",
    "\n",
    "\n",
    "    \n",
    "    stop_words = set(stopwords.words('english'))\n",
    "    for i in range(n):\n",
    "        temp = [] \n",
    "        for w in word_tokenize(df.iloc[i].lower()):\n",
    "            \n",
    "            if w not in stop_words and w not in manual_stop_words:\n",
    "                temp.append(w)\n",
    "        #print(temp)\n",
    "        filtered_sentence.append(temp)\n",
    "    #print(filtered_sentence[1:3])\n",
    "    return filtered_sentence\n",
    "\n",
    "\n",
    "X_train_token = TextPreprocessing(X_train, X_train.size)\n",
    "X_test_token = TextPreprocessing(X_test, X_test.size)\n",
    "\n",
    "\n",
    "#print example if needed to understand the data\n",
    "print('Token:   ', X_train_token[:2])\n",
    "print('Training data X(What we are using to predcit):    ', X_train[:2])\n",
    "print('training data y(what we try to predict)', y_train[:2])"
   ]
  },
  {
   "cell_type": "markdown",
   "id": "278eeb89",
   "metadata": {},
   "source": [
    "### Multinomial Naive Bayes"
   ]
  },
  {
   "cell_type": "code",
   "execution_count": 8,
   "id": "e3109f8f-7bbe-4709-8ba2-ff8a610063fb",
   "metadata": {},
   "outputs": [
    {
     "name": "stderr",
     "output_type": "stream",
     "text": [
      "c:\\Users\\Eric\\AppData\\Local\\Programs\\Python\\Python312\\Lib\\site-packages\\sklearn\\feature_extraction\\text.py:521: UserWarning: The parameter 'token_pattern' will not be used since 'tokenizer' is not None'\n",
      "  warnings.warn(\n"
     ]
    },
    {
     "name": "stdout",
     "output_type": "stream",
     "text": [
      "Accuracy: 0.92\n",
      "\n",
      "Classification Report:\n",
      "              precision    recall  f1-score   support\n",
      "\n",
      "           0       0.90      1.00      0.95       742\n",
      "           1       1.00      0.72      0.84       293\n",
      "\n",
      "    accuracy                           0.92      1035\n",
      "   macro avg       0.95      0.86      0.89      1035\n",
      "weighted avg       0.93      0.92      0.92      1035\n",
      "\n",
      "\n",
      "Confusion Matrix:\n",
      "[[742   0]\n",
      " [ 82 211]]\n"
     ]
    }
   ],
   "source": [
    "# Convert tokenized text data into numerical features using TfidfVectorizer\n",
    "vectorizer = TfidfVectorizer(tokenizer=lambda x: x, preprocessor=lambda x: x, lowercase=False)\n",
    "X_train_vectorized = vectorizer.fit_transform(X_train_token)\n",
    "X_test_vectorized = vectorizer.transform(X_test_token)\n",
    "\n",
    "# Initialize Multinomial Naive Bayes model\n",
    "nb_classifier = MultinomialNB()\n",
    "\n",
    "# Train the model\n",
    "nb_classifier.fit(X_train_vectorized, y_train)\n",
    "\n",
    "# Make predictions on test data\n",
    "y_pred = nb_classifier.predict(X_test_vectorized)\n",
    "\n",
    "# Evaluate the model\n",
    "accuracy = accuracy_score(y_test, y_pred)\n",
    "print(f\"Accuracy: {accuracy:.2f}\")\n",
    "\n",
    "print(\"\\nClassification Report:\")\n",
    "print(classification_report(y_test, y_pred))\n",
    "\n",
    "print(\"\\nConfusion Matrix:\")\n",
    "print(confusion_matrix(y_test, y_pred))"
   ]
  },
  {
   "cell_type": "code",
   "execution_count": null,
   "id": "080cdf1f",
   "metadata": {},
   "outputs": [],
   "source": []
  }
 ],
 "metadata": {
  "kernelspec": {
   "display_name": "Python 3",
   "language": "python",
   "name": "python3"
  },
  "language_info": {
   "codemirror_mode": {
    "name": "ipython",
    "version": 3
   },
   "file_extension": ".py",
   "mimetype": "text/x-python",
   "name": "python",
   "nbconvert_exporter": "python",
   "pygments_lexer": "ipython3",
   "version": "3.12.4"
  }
 },
 "nbformat": 4,
 "nbformat_minor": 5
}
